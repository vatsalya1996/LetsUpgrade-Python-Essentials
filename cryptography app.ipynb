{
 "cells": [
  {
   "cell_type": "code",
   "execution_count": 4,
   "metadata": {},
   "outputs": [
    {
     "name": "stdout",
     "output_type": "stream",
     "text": [
      "Requirement already satisfied: cryptography in c:\\users\\vatsalya chuthad\\anaconda3\\lib\\site-packages (3.1.1)\n",
      "Requirement already satisfied: cffi!=1.11.3,>=1.8 in c:\\users\\vatsalya chuthad\\anaconda3\\lib\\site-packages (from cryptography) (1.14.3)\n",
      "Requirement already satisfied: six>=1.4.1 in c:\\users\\vatsalya chuthad\\anaconda3\\lib\\site-packages (from cryptography) (1.15.0)\n",
      "Requirement already satisfied: pycparser in c:\\users\\vatsalya chuthad\\anaconda3\\lib\\site-packages (from cffi!=1.11.3,>=1.8->cryptography) (2.20)\n"
     ]
    }
   ],
   "source": [
    "!pip install cryptography"
   ]
  },
  {
   "cell_type": "code",
   "execution_count": 10,
   "metadata": {},
   "outputs": [],
   "source": [
    "from cryptography.fernet import Fernet"
   ]
  },
  {
   "cell_type": "code",
   "execution_count": 20,
   "metadata": {},
   "outputs": [],
   "source": [
    "def generatePassKey():\n",
    "    key = Fernet.generate_key()\n",
    "    print(key)\n",
    "    abc = open(\"Pass.key\", 'wb')\n",
    "    abc.write(key)\n",
    "    abc.close()"
   ]
  },
  {
   "cell_type": "code",
   "execution_count": 21,
   "metadata": {},
   "outputs": [
    {
     "name": "stdout",
     "output_type": "stream",
     "text": [
      "b'Y5y_ARziHtRsR9_Fz3W_g9-HoqaikDXTcMLuk6krvJU='\n"
     ]
    }
   ],
   "source": [
    "generatePassKey()"
   ]
  },
  {
   "cell_type": "code",
   "execution_count": 22,
   "metadata": {},
   "outputs": [],
   "source": [
    "def getKey():\n",
    "    abc = open(\"Pass.key\", 'rb')\n",
    "    return abc.read()"
   ]
  },
  {
   "cell_type": "code",
   "execution_count": 23,
   "metadata": {},
   "outputs": [
    {
     "data": {
      "text/plain": [
       "b'Y5y_ARziHtRsR9_Fz3W_g9-HoqaikDXTcMLuk6krvJU='"
      ]
     },
     "execution_count": 23,
     "metadata": {},
     "output_type": "execute_result"
    }
   ],
   "source": [
    "getKey()"
   ]
  },
  {
   "cell_type": "code",
   "execution_count": 24,
   "metadata": {},
   "outputs": [],
   "source": [
    "def getContentFromUser():\n",
    "    return input(\"Enter the statement you want to Encrypt\")"
   ]
  },
  {
   "cell_type": "code",
   "execution_count": 26,
   "metadata": {},
   "outputs": [
    {
     "name": "stdout",
     "output_type": "stream",
     "text": [
      "Enter the statement you want to EncryptHello\n"
     ]
    },
    {
     "data": {
      "text/plain": [
       "'Hello'"
      ]
     },
     "execution_count": 26,
     "metadata": {},
     "output_type": "execute_result"
    }
   ],
   "source": [
    "getContentFromUser()"
   ]
  },
  {
   "cell_type": "code",
   "execution_count": 32,
   "metadata": {},
   "outputs": [],
   "source": [
    "def encryptMessage(message_normal):\n",
    "    key = getKey()\n",
    "    k = Fernet(key)\n",
    "    encrypted_Message = k.encrypt(message_normal)\n",
    "    return encrypted_Message"
   ]
  },
  {
   "cell_type": "code",
   "execution_count": 33,
   "metadata": {},
   "outputs": [
    {
     "data": {
      "text/plain": [
       "b'gAAAAABf2b_SxM8GoP8TO5tV_B5ZlwV3mAS8Rdrbbp3IDIhcTEghJWPuMyfrbKH2-kfH-uDoPIopMMnXwkDXTHNXJQEt5mkD2w=='"
      ]
     },
     "execution_count": 33,
     "metadata": {},
     "output_type": "execute_result"
    }
   ],
   "source": [
    "encryptMessage(b\"Hello!\")"
   ]
  },
  {
   "cell_type": "code",
   "execution_count": 40,
   "metadata": {},
   "outputs": [],
   "source": [
    "def decryptMessage(message_secret):\n",
    "    key = getKey()\n",
    "    k = Fernet(key)\n",
    "    decrypted_Message = k.decrypt(message_secret)\n",
    "    return decrypted_Message"
   ]
  },
  {
   "cell_type": "code",
   "execution_count": 41,
   "metadata": {},
   "outputs": [
    {
     "data": {
      "text/plain": [
       "b'Hello!'"
      ]
     },
     "execution_count": 41,
     "metadata": {},
     "output_type": "execute_result"
    }
   ],
   "source": [
    "decryptMessage(b'gAAAAABf2b_SxM8GoP8TO5tV_B5ZlwV3mAS8Rdrbbp3IDIhcTEghJWPuMyfrbKH2-kfH-uDoPIopMMnXwkDXTHNXJQEt5mkD2w==')"
   ]
  },
  {
   "cell_type": "code",
   "execution_count": null,
   "metadata": {},
   "outputs": [],
   "source": []
  }
 ],
 "metadata": {
  "kernelspec": {
   "display_name": "Python 3",
   "language": "python",
   "name": "python3"
  },
  "language_info": {
   "codemirror_mode": {
    "name": "ipython",
    "version": 3
   },
   "file_extension": ".py",
   "mimetype": "text/x-python",
   "name": "python",
   "nbconvert_exporter": "python",
   "pygments_lexer": "ipython3",
   "version": "3.8.5"
  }
 },
 "nbformat": 4,
 "nbformat_minor": 4
}
